{
 "cells": [
  {
   "cell_type": "markdown",
   "metadata": {},
   "source": [
    "### 2.f Dropout constant $\\gamma$"
   ]
  },
  {
   "cell_type": "markdown",
   "metadata": {},
   "source": [
    "Simplify $\\mathbb{E}_{Pdrop}[h_{drop}]_i$:\n",
    "$$\n",
    "\\begin{align}\n",
    "\\mathbb{E}_{Pdrop}[h_{drop}]_i &= \\mathbb{E}_{Pdrop}[\\gamma d_i h_i] \\\\\n",
    "&= \\gamma h_i \\mathbb{E}_{Pdrop}[d_i] \\\\\n",
    "&= \\gamma h_i (1 - Pdrop) \\\\\n",
    "\\end{align}\n",
    "$$\n",
    "The following equation holds:\n",
    "$$\n",
    "\\begin{align}\n",
    "\\gamma h_i (1 - Pdrop) &= h_i \\Rightarrow \\gamma = \\frac{1}{1 - Pdrop}\n",
    "\\end{align}\n",
    "$$\n",
    "So the chosen $gamma$ should be $\\gamma = \\frac{1}{1 - Pdrop}$."
   ]
  },
  {
   "cell_type": "markdown",
   "metadata": {},
   "source": [
    "### 2.g Adam optimizer"
   ]
  },
  {
   "cell_type": "markdown",
   "metadata": {},
   "source": [
    "Standard SGD\n",
    "$$\\begin{align}\n",
    "\\theta &\\leftarrow \\theta - \\alpha \\Delta_\\theta J_{minibatch}(\\theta)\n",
    "\\end{align}$$\n",
    "\n",
    "Adam optimizer\n",
    "$$\\begin{align}\n",
    "m &\\leftarrow \\beta_1 m + (1 - \\beta_1) \\Delta_\\theta J_{minibatch}(\\theta) \\\\\n",
    "\\theta &\\leftarrow \\theta - \\alpha m\n",
    "\\end{align}$$"
   ]
  },
  {
   "cell_type": "code",
   "execution_count": null,
   "metadata": {},
   "outputs": [],
   "source": []
  }
 ],
 "metadata": {
  "kernelspec": {
   "display_name": "Python 3",
   "language": "python",
   "name": "python3"
  },
  "language_info": {
   "codemirror_mode": {
    "name": "ipython",
    "version": 3
   },
   "file_extension": ".py",
   "mimetype": "text/x-python",
   "name": "python",
   "nbconvert_exporter": "python",
   "pygments_lexer": "ipython3",
   "version": "3.6.5"
  }
 },
 "nbformat": 4,
 "nbformat_minor": 2
}
