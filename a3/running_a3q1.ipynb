{
 "cells": [
  {
   "cell_type": "code",
   "execution_count": 2,
   "metadata": {},
   "outputs": [
    {
     "data": {
      "text/plain": [
       "'D:\\\\MachineLearning\\\\courses\\\\cs224n\\\\a3'"
      ]
     },
     "execution_count": 2,
     "metadata": {},
     "output_type": "execute_result"
    }
   ],
   "source": [
    "pwd"
   ]
  },
  {
   "cell_type": "code",
   "execution_count": 9,
   "metadata": {},
   "outputs": [
    {
     "name": "stderr",
     "output_type": "stream",
     "text": [
      "C:\\Users\\Harold\\Anaconda3\\lib\\site-packages\\h5py\\__init__.py:36: FutureWarning: Conversion of the second argument of issubdtype from `float` to `np.floating` is deprecated. In future, it will be treated as `np.float64 == np.dtype(float).type`.\n",
      "  from ._conv import register_converters as _register_converters\n",
      "INFO:Testing make_windowed_data\n",
      "INFO:Passed!\n"
     ]
    }
   ],
   "source": [
    "%run q1_window.py test1"
   ]
  },
  {
   "cell_type": "code",
   "execution_count": 10,
   "metadata": {},
   "outputs": [
    {
     "name": "stderr",
     "output_type": "stream",
     "text": [
      "INFO:Testing implementation of WindowModel\n",
      "INFO:Loading training data...\n",
      "INFO:Done. Read 721 sentences\n",
      "INFO:Loading dev data...\n",
      "INFO:Done. Read 721 sentences\n",
      "INFO:Built dictionary for 2653 features.\n",
      "INFO:Initialized embeddings.\n",
      "INFO:Building model...\n",
      "INFO:took 2.37 seconds\n",
      "INFO:Epoch 1 out of 10\n"
     ]
    },
    {
     "name": "stdout",
     "output_type": "stream",
     "text": [
      "5/5 [==============================] - 0s - train loss: 1.1301     "
     ]
    },
    {
     "name": "stderr",
     "output_type": "stream",
     "text": [
      "INFO:Evaluating on development data\n"
     ]
    },
    {
     "name": "stdout",
     "output_type": "stream",
     "text": [
      "\n",
      "5/5 [==============================] - 0s     "
     ]
    },
    {
     "name": "stderr",
     "output_type": "stream",
     "text": [
      "DEBUG:Token-level confusion matrix:\n",
      "go\\gu  \tPER    \tORG    \tLOC    \tMISC   \tO      \n",
      "PER    \t152.00 \t0.00   \t7.00   \t0.00   \t665.00 \n",
      "ORG    \t20.00  \t0.00   \t5.00   \t0.00   \t366.00 \n",
      "LOC    \t22.00  \t0.00   \t90.00  \t0.00   \t465.00 \n",
      "MISC   \t4.00   \t0.00   \t0.00   \t0.00   \t254.00 \n",
      "O      \t6.00   \t0.00   \t4.00   \t0.00   \t7106.00\n",
      "\n",
      "DEBUG:Token-level scores:\n",
      "label\tacc  \tprec \trec  \tf1   \n",
      "PER  \t0.92 \t0.75 \t0.18 \t0.30 \n",
      "ORG  \t0.00 \t0.00 \t0.00 \t0.00 \n",
      "LOC  \t0.95 \t0.85 \t0.16 \t0.26 \n",
      "MISC \t0.00 \t0.00 \t0.00 \t0.00 \n",
      "O    \t0.81 \t0.80 \t1.00 \t0.89 \n",
      "micro\t0.92 \t0.80 \t0.80 \t0.80 \n",
      "macro\t0.53 \t0.48 \t0.27 \t0.29 \n",
      "not-O\t0.95 \t0.78 \t0.12 \t0.21 \n",
      "\n",
      "INFO:Entity level P/R/F1: 0.29/0.06/0.11\n",
      "INFO:Epoch 2 out of 10\n"
     ]
    },
    {
     "name": "stdout",
     "output_type": "stream",
     "text": [
      "\n",
      "\n",
      "5/5 [==============================] - 0s - train loss: 0.6246     "
     ]
    },
    {
     "name": "stderr",
     "output_type": "stream",
     "text": [
      "INFO:Evaluating on development data\n"
     ]
    },
    {
     "name": "stdout",
     "output_type": "stream",
     "text": [
      "\n",
      "5/5 [==============================] - 0s     "
     ]
    },
    {
     "name": "stderr",
     "output_type": "stream",
     "text": [
      "DEBUG:Token-level confusion matrix:\n",
      "go\\gu  \tPER    \tORG    \tLOC    \tMISC   \tO      \n",
      "PER    \t620.00 \t1.00   \t7.00   \t0.00   \t196.00 \n",
      "ORG    \t206.00 \t2.00   \t7.00   \t0.00   \t176.00 \n",
      "LOC    \t153.00 \t0.00   \t176.00 \t0.00   \t248.00 \n",
      "MISC   \t66.00  \t1.00   \t1.00   \t0.00   \t190.00 \n",
      "O      \t155.00 \t0.00   \t16.00  \t0.00   \t6945.00\n",
      "\n",
      "DEBUG:Token-level scores:\n",
      "label\tacc  \tprec \trec  \tf1   \n",
      "PER  \t0.91 \t0.52 \t0.75 \t0.61 \n",
      "ORG  \t0.96 \t0.50 \t0.01 \t0.01 \n",
      "LOC  \t0.95 \t0.85 \t0.31 \t0.45 \n",
      "MISC \t0.00 \t0.00 \t0.00 \t0.00 \n",
      "O    \t0.89 \t0.90 \t0.98 \t0.93 \n",
      "micro\t0.94 \t0.84 \t0.84 \t0.84 \n",
      "macro\t0.74 \t0.55 \t0.41 \t0.40 \n",
      "not-O\t0.95 \t0.57 \t0.39 \t0.46 \n",
      "\n",
      "INFO:Entity level P/R/F1: 0.46/0.32/0.38\n",
      "INFO:Epoch 3 out of 10\n"
     ]
    },
    {
     "name": "stdout",
     "output_type": "stream",
     "text": [
      "\n",
      "\n",
      "5/5 [==============================] - 0s - train loss: 0.4795     "
     ]
    },
    {
     "name": "stderr",
     "output_type": "stream",
     "text": [
      "INFO:Evaluating on development data\n"
     ]
    },
    {
     "name": "stdout",
     "output_type": "stream",
     "text": [
      "\n",
      "5/5 [==============================] - 0s     \n"
     ]
    },
    {
     "name": "stderr",
     "output_type": "stream",
     "text": [
      "DEBUG:Token-level confusion matrix:\n",
      "go\\gu  \tPER    \tORG    \tLOC    \tMISC   \tO      \n",
      "PER    \t695.00 \t17.00  \t14.00  \t0.00   \t98.00  \n",
      "ORG    \t213.00 \t20.00  \t23.00  \t0.00   \t135.00 \n",
      "LOC    \t130.00 \t4.00   \t264.00 \t0.00   \t179.00 \n",
      "MISC   \t99.00  \t19.00  \t4.00   \t7.00   \t129.00 \n",
      "O      \t124.00 \t38.00  \t68.00  \t0.00   \t6886.00\n",
      "\n",
      "DEBUG:Token-level scores:\n",
      "label\tacc  \tprec \trec  \tf1   \n",
      "PER  \t0.92 \t0.55 \t0.84 \t0.67 \n",
      "ORG  \t0.95 \t0.20 \t0.05 \t0.08 \n",
      "LOC  \t0.95 \t0.71 \t0.46 \t0.56 \n",
      "MISC \t0.97 \t1.00 \t0.03 \t0.05 \n",
      "O    \t0.92 \t0.93 \t0.97 \t0.95 \n",
      "micro\t0.94 \t0.86 \t0.86 \t0.86 \n",
      "macro\t0.94 \t0.68 \t0.47 \t0.46 \n",
      "not-O\t0.95 \t0.57 \t0.48 \t0.52 \n",
      "\n",
      "INFO:Entity level P/R/F1: 0.49/0.41/0.45\n",
      "INFO:Epoch 4 out of 10\n"
     ]
    },
    {
     "name": "stdout",
     "output_type": "stream",
     "text": [
      "\n",
      "5/5 [==============================] - 0s - train loss: 0.4176     "
     ]
    },
    {
     "name": "stderr",
     "output_type": "stream",
     "text": [
      "INFO:Evaluating on development data\n"
     ]
    },
    {
     "name": "stdout",
     "output_type": "stream",
     "text": [
      "\n",
      "5/5 [==============================] - 0s     \n"
     ]
    },
    {
     "name": "stderr",
     "output_type": "stream",
     "text": [
      "DEBUG:Token-level confusion matrix:\n",
      "go\\gu  \tPER    \tORG    \tLOC    \tMISC   \tO      \n",
      "PER    \t693.00 \t19.00  \t48.00  \t2.00   \t62.00  \n",
      "ORG    \t174.00 \t53.00  \t53.00  \t5.00   \t106.00 \n",
      "LOC    \t89.00  \t12.00  \t398.00 \t2.00   \t76.00  \n",
      "MISC   \t66.00  \t29.00  \t24.00  \t66.00  \t73.00  \n",
      "O      \t95.00  \t14.00  \t128.00 \t3.00   \t6876.00\n",
      "\n",
      "DEBUG:Token-level scores:\n",
      "label\tacc  \tprec \trec  \tf1   \n",
      "PER  \t0.94 \t0.62 \t0.84 \t0.71 \n",
      "ORG  \t0.96 \t0.42 \t0.14 \t0.20 \n",
      "LOC  \t0.95 \t0.61 \t0.69 \t0.65 \n",
      "MISC \t0.98 \t0.85 \t0.26 \t0.39 \n",
      "O    \t0.94 \t0.96 \t0.97 \t0.96 \n",
      "micro\t0.95 \t0.88 \t0.88 \t0.88 \n",
      "macro\t0.95 \t0.69 \t0.58 \t0.58 \n",
      "not-O\t0.96 \t0.61 \t0.59 \t0.60 \n",
      "\n",
      "INFO:Entity level P/R/F1: 0.52/0.54/0.53\n",
      "INFO:Epoch 5 out of 10\n"
     ]
    },
    {
     "name": "stdout",
     "output_type": "stream",
     "text": [
      "\n",
      "5/5 [==============================] - 0s - train loss: 0.3737     "
     ]
    },
    {
     "name": "stderr",
     "output_type": "stream",
     "text": [
      "INFO:Evaluating on development data\n"
     ]
    },
    {
     "name": "stdout",
     "output_type": "stream",
     "text": [
      "\n",
      "5/5 [==============================] - 0s     \n"
     ]
    },
    {
     "name": "stderr",
     "output_type": "stream",
     "text": [
      "DEBUG:Token-level confusion matrix:\n",
      "go\\gu  \tPER    \tORG    \tLOC    \tMISC   \tO      \n",
      "PER    \t708.00 \t4.00   \t46.00  \t7.00   \t59.00  \n",
      "ORG    \t171.00 \t29.00  \t39.00  \t26.00  \t126.00 \n",
      "LOC    \t62.00  \t4.00   \t421.00 \t20.00  \t70.00  \n",
      "MISC   \t64.00  \t4.00   \t18.00  \t105.00 \t67.00  \n",
      "O      \t83.00  \t3.00   \t92.00  \t6.00   \t6932.00\n",
      "\n",
      "DEBUG:Token-level scores:\n",
      "label\tacc  \tprec \trec  \tf1   \n",
      "PER  \t0.95 \t0.65 \t0.86 \t0.74 \n",
      "ORG  \t0.96 \t0.66 \t0.07 \t0.13 \n",
      "LOC  \t0.96 \t0.68 \t0.73 \t0.71 \n",
      "MISC \t0.98 \t0.64 \t0.41 \t0.50 \n",
      "O    \t0.94 \t0.96 \t0.97 \t0.96 \n",
      "micro\t0.96 \t0.89 \t0.89 \t0.89 \n",
      "macro\t0.96 \t0.72 \t0.61 \t0.61 \n",
      "not-O\t0.96 \t0.66 \t0.62 \t0.64 \n",
      "\n",
      "INFO:Entity level P/R/F1: 0.57/0.57/0.57\n",
      "INFO:Epoch 6 out of 10\n"
     ]
    },
    {
     "name": "stdout",
     "output_type": "stream",
     "text": [
      "\n",
      "5/5 [==============================] - 0s - train loss: 0.3559     "
     ]
    },
    {
     "name": "stderr",
     "output_type": "stream",
     "text": [
      "INFO:Evaluating on development data\n"
     ]
    },
    {
     "name": "stdout",
     "output_type": "stream",
     "text": [
      "\n",
      "5/5 [==============================] - 0s     "
     ]
    },
    {
     "name": "stderr",
     "output_type": "stream",
     "text": [
      "DEBUG:Token-level confusion matrix:\n",
      "go\\gu  \tPER    \tORG    \tLOC    \tMISC   \tO      \n",
      "PER    \t715.00 \t2.00   \t23.00  \t12.00  \t72.00  \n",
      "ORG    \t180.00 \t29.00  \t26.00  \t27.00  \t129.00 \n",
      "LOC    \t61.00  \t2.00   \t406.00 \t28.00  \t80.00  \n",
      "MISC   \t61.00  \t1.00   \t14.00  \t120.00 \t62.00  \n",
      "O      \t73.00  \t2.00   \t48.00  \t7.00   \t6986.00\n",
      "\n",
      "DEBUG:Token-level scores:\n",
      "label\tacc  \tprec \trec  \tf1   \n",
      "PER  \t0.95 \t0.66 \t0.87 \t0.75 \n",
      "ORG  \t0.96 \t0.81 \t0.07 \t0.14 \n",
      "LOC  \t0.97 \t0.79 \t0.70 \t0.74 \n",
      "MISC \t0.98 \t0.62 \t0.47 \t0.53 \n",
      "O    \t0.95 \t0.95 \t0.98 \t0.97 \n",
      "micro\t0.96 \t0.90 \t0.90 \t0.90 \n",
      "macro\t0.96 \t0.76 \t0.62 \t0.62 \n",
      "not-O\t0.96 \t0.69 \t0.62 \t0.65 \n",
      "\n",
      "INFO:Entity level P/R/F1: 0.61/0.57/0.59\n"
     ]
    },
    {
     "name": "stdout",
     "output_type": "stream",
     "text": [
      "\n"
     ]
    },
    {
     "name": "stderr",
     "output_type": "stream",
     "text": [
      "INFO:Epoch 7 out of 10\n"
     ]
    },
    {
     "name": "stdout",
     "output_type": "stream",
     "text": [
      "\n",
      "5/5 [==============================] - 0s - train loss: 0.3304     "
     ]
    },
    {
     "name": "stderr",
     "output_type": "stream",
     "text": [
      "INFO:Evaluating on development data\n"
     ]
    },
    {
     "name": "stdout",
     "output_type": "stream",
     "text": [
      "\n",
      "5/5 [==============================] - 0s     \n"
     ]
    },
    {
     "name": "stderr",
     "output_type": "stream",
     "text": [
      "DEBUG:Token-level confusion matrix:\n",
      "go\\gu  \tPER    \tORG    \tLOC    \tMISC   \tO      \n",
      "PER    \t720.00 \t1.00   \t20.00  \t10.00  \t73.00  \n",
      "ORG    \t169.00 \t44.00  \t21.00  \t26.00  \t131.00 \n",
      "LOC    \t60.00  \t5.00   \t402.00 \t24.00  \t86.00  \n",
      "MISC   \t60.00  \t4.00   \t9.00   \t126.00 \t59.00  \n",
      "O      \t71.00  \t7.00   \t17.00  \t3.00   \t7018.00\n",
      "\n",
      "DEBUG:Token-level scores:\n",
      "label\tacc  \tprec \trec  \tf1   \n",
      "PER  \t0.95 \t0.67 \t0.87 \t0.76 \n",
      "ORG  \t0.96 \t0.72 \t0.11 \t0.19 \n",
      "LOC  \t0.97 \t0.86 \t0.70 \t0.77 \n",
      "MISC \t0.98 \t0.67 \t0.49 \t0.56 \n",
      "O    \t0.95 \t0.95 \t0.99 \t0.97 \n",
      "micro\t0.96 \t0.91 \t0.91 \t0.91 \n",
      "macro\t0.96 \t0.77 \t0.63 \t0.65 \n",
      "not-O\t0.97 \t0.72 \t0.63 \t0.67 \n",
      "\n",
      "INFO:Entity level P/R/F1: 0.64/0.58/0.61\n",
      "INFO:Epoch 8 out of 10\n"
     ]
    },
    {
     "name": "stdout",
     "output_type": "stream",
     "text": [
      "\n",
      "5/5 [==============================] - 0s - train loss: 0.3153     "
     ]
    },
    {
     "name": "stderr",
     "output_type": "stream",
     "text": [
      "INFO:Evaluating on development data\n"
     ]
    },
    {
     "name": "stdout",
     "output_type": "stream",
     "text": [
      "\n",
      "5/5 [==============================] - 0s     "
     ]
    },
    {
     "name": "stderr",
     "output_type": "stream",
     "text": [
      "DEBUG:Token-level confusion matrix:\n",
      "go\\gu  \tPER    \tORG    \tLOC    \tMISC   \tO      \n",
      "PER    \t728.00 \t5.00   \t20.00  \t6.00   \t65.00  \n",
      "ORG    \t158.00 \t72.00  \t20.00  \t20.00  \t121.00 \n",
      "LOC    \t51.00  \t12.00  \t415.00 \t18.00  \t81.00  \n",
      "MISC   \t57.00  \t9.00   \t10.00  \t123.00 \t59.00  \n",
      "O      \t70.00  \t11.00  \t17.00  \t2.00   \t7016.00\n",
      "\n",
      "DEBUG:Token-level scores:\n",
      "label\tacc  \tprec \trec  \tf1   \n",
      "PER  \t0.95 \t0.68 \t0.88 \t0.77 \n",
      "ORG  \t0.96 \t0.66 \t0.18 \t0.29 \n",
      "LOC  \t0.98 \t0.86 \t0.72 \t0.78 \n",
      "MISC \t0.98 \t0.73 \t0.48 \t0.58 \n",
      "O    \t0.95 \t0.96 \t0.99 \t0.97 \n",
      "micro\t0.96 \t0.91 \t0.91 \t0.91 \n",
      "macro\t0.96 \t0.78 \t0.65 \t0.68 \n",
      "not-O\t0.97 \t0.73 \t0.65 \t0.69 \n",
      "\n",
      "INFO:Entity level P/R/F1: 0.64/0.60/0.62\n",
      "INFO:Epoch 9 out of 10\n"
     ]
    },
    {
     "name": "stdout",
     "output_type": "stream",
     "text": [
      "\n",
      "\n",
      "5/5 [==============================] - 0s - train loss: 0.3007     "
     ]
    },
    {
     "name": "stderr",
     "output_type": "stream",
     "text": [
      "INFO:Evaluating on development data\n"
     ]
    },
    {
     "name": "stdout",
     "output_type": "stream",
     "text": [
      "\n",
      "5/5 [==============================] - 0s     \n"
     ]
    },
    {
     "name": "stderr",
     "output_type": "stream",
     "text": [
      "DEBUG:Token-level confusion matrix:\n",
      "go\\gu  \tPER    \tORG    \tLOC    \tMISC   \tO      \n",
      "PER    \t734.00 \t8.00   \t22.00  \t5.00   \t55.00  \n",
      "ORG    \t149.00 \t90.00  \t21.00  \t15.00  \t116.00 \n",
      "LOC    \t40.00  \t21.00  \t439.00 \t10.00  \t67.00  \n",
      "MISC   \t55.00  \t11.00  \t11.00  \t122.00 \t59.00  \n",
      "O      \t57.00  \t13.00  \t21.00  \t2.00   \t7023.00\n",
      "\n",
      "DEBUG:Token-level scores:\n",
      "label\tacc  \tprec \trec  \tf1   \n",
      "PER  \t0.96 \t0.71 \t0.89 \t0.79 \n",
      "ORG  \t0.96 \t0.63 \t0.23 \t0.34 \n",
      "LOC  \t0.98 \t0.85 \t0.76 \t0.80 \n",
      "MISC \t0.98 \t0.79 \t0.47 \t0.59 \n",
      "O    \t0.96 \t0.96 \t0.99 \t0.97 \n",
      "micro\t0.97 \t0.92 \t0.92 \t0.92 \n",
      "macro\t0.97 \t0.79 \t0.67 \t0.70 \n",
      "not-O\t0.97 \t0.75 \t0.68 \t0.71 \n",
      "\n",
      "INFO:Entity level P/R/F1: 0.65/0.63/0.64\n",
      "INFO:Epoch 10 out of 10\n"
     ]
    },
    {
     "name": "stdout",
     "output_type": "stream",
     "text": [
      "\n",
      "5/5 [==============================] - 0s - train loss: 0.2870     "
     ]
    },
    {
     "name": "stderr",
     "output_type": "stream",
     "text": [
      "INFO:Evaluating on development data\n"
     ]
    },
    {
     "name": "stdout",
     "output_type": "stream",
     "text": [
      "\n",
      "5/5 [==============================] - 0s     \n"
     ]
    },
    {
     "name": "stderr",
     "output_type": "stream",
     "text": [
      "DEBUG:Token-level confusion matrix:\n",
      "go\\gu  \tPER    \tORG    \tLOC    \tMISC   \tO      \n",
      "PER    \t742.00 \t8.00   \t21.00  \t6.00   \t47.00  \n",
      "ORG    \t139.00 \t108.00 \t21.00  \t16.00  \t107.00 \n",
      "LOC    \t34.00  \t18.00  \t456.00 \t9.00   \t60.00  \n",
      "MISC   \t49.00  \t14.00  \t12.00  \t127.00 \t56.00  \n",
      "O      \t55.00  \t10.00  \t22.00  \t2.00   \t7027.00\n",
      "\n",
      "DEBUG:Token-level scores:\n",
      "label\tacc  \tprec \trec  \tf1   \n",
      "PER  \t0.96 \t0.73 \t0.90 \t0.81 \n",
      "ORG  \t0.96 \t0.68 \t0.28 \t0.39 \n",
      "LOC  \t0.98 \t0.86 \t0.79 \t0.82 \n",
      "MISC \t0.98 \t0.79 \t0.49 \t0.61 \n",
      "O    \t0.96 \t0.96 \t0.99 \t0.98 \n",
      "micro\t0.97 \t0.92 \t0.92 \t0.92 \n",
      "macro\t0.97 \t0.81 \t0.69 \t0.72 \n",
      "not-O\t0.97 \t0.77 \t0.70 \t0.73 \n",
      "\n",
      "INFO:Entity level P/R/F1: 0.66/0.65/0.66\n",
      "INFO:Model did not crash!\n",
      "INFO:Passed!\n"
     ]
    },
    {
     "name": "stdout",
     "output_type": "stream",
     "text": [
      "\n"
     ]
    }
   ],
   "source": [
    "%run q1_window.py test2"
   ]
  },
  {
   "cell_type": "code",
   "execution_count": 11,
   "metadata": {},
   "outputs": [
    {
     "name": "stderr",
     "output_type": "stream",
     "text": [
      "INFO:Loading training data...\n",
      "INFO:Done. Read 14041 sentences\n",
      "INFO:Loading dev data...\n",
      "INFO:Done. Read 3250 sentences\n",
      "INFO:Built dictionary for 10007 features.\n",
      "INFO:Initialized embeddings.\n",
      "INFO:Building model...\n",
      "INFO:took 0.10 seconds\n",
      "INFO:Epoch 1 out of 10\n"
     ]
    },
    {
     "name": "stdout",
     "output_type": "stream",
     "text": [
      "100/100 [==============================] - 0s - train loss: 0.3698     "
     ]
    },
    {
     "name": "stderr",
     "output_type": "stream",
     "text": [
      "INFO:Evaluating on development data\n"
     ]
    },
    {
     "name": "stdout",
     "output_type": "stream",
     "text": [
      "\n",
      "26/26 [==============================] - 1s     \n"
     ]
    },
    {
     "name": "stderr",
     "output_type": "stream",
     "text": [
      "DEBUG:Token-level confusion matrix:\n",
      "go\\gu   \tPER     \tORG     \tLOC     \tMISC    \tO       \n",
      "PER     \t2694.00 \t119.00  \t86.00   \t20.00   \t230.00  \n",
      "ORG     \t463.00  \t947.00  \t229.00  \t139.00  \t314.00  \n",
      "LOC     \t162.00  \t221.00  \t1350.00 \t157.00  \t204.00  \n",
      "MISC    \t144.00  \t212.00  \t118.00  \t596.00  \t198.00  \n",
      "O       \t149.00  \t138.00  \t48.00   \t40.00   \t42384.00\n",
      "\n",
      "DEBUG:Token-level scores:\n",
      "label\tacc  \tprec \trec  \tf1   \n",
      "PER  \t0.97 \t0.75 \t0.86 \t0.80 \n",
      "ORG  \t0.96 \t0.58 \t0.45 \t0.51 \n",
      "LOC  \t0.98 \t0.74 \t0.64 \t0.69 \n",
      "MISC \t0.98 \t0.63 \t0.47 \t0.54 \n",
      "O    \t0.97 \t0.98 \t0.99 \t0.98 \n",
      "micro\t0.97 \t0.93 \t0.93 \t0.93 \n",
      "macro\t0.97 \t0.73 \t0.68 \t0.70 \n",
      "not-O\t0.97 \t0.70 \t0.65 \t0.67 \n",
      "\n",
      "INFO:Entity level P/R/F1: 0.57/0.60/0.59\n",
      "INFO:New best score! Saving model in results/window/20180731_200917/model.weights\n",
      "INFO:Epoch 2 out of 10\n"
     ]
    },
    {
     "name": "stdout",
     "output_type": "stream",
     "text": [
      "\n",
      "100/100 [==============================] - 0s - train loss: 0.2141     "
     ]
    },
    {
     "name": "stderr",
     "output_type": "stream",
     "text": [
      "INFO:Evaluating on development data\n"
     ]
    },
    {
     "name": "stdout",
     "output_type": "stream",
     "text": [
      "\n",
      "26/26 [==============================] - 1s     \n"
     ]
    },
    {
     "name": "stderr",
     "output_type": "stream",
     "text": [
      "DEBUG:Token-level confusion matrix:\n",
      "go\\gu   \tPER     \tORG     \tLOC     \tMISC    \tO       \n",
      "PER     \t2757.00 \t146.00  \t122.00  \t16.00   \t108.00  \n",
      "ORG     \t409.00  \t1141.00 \t247.00  \t90.00   \t205.00  \n",
      "LOC     \t146.00  \t146.00  \t1623.00 \t62.00   \t117.00  \n",
      "MISC    \t121.00  \t215.00  \t166.00  \t610.00  \t156.00  \n",
      "O       \t148.00  \t146.00  \t69.00   \t31.00   \t42365.00\n",
      "\n",
      "DEBUG:Token-level scores:\n",
      "label\tacc  \tprec \trec  \tf1   \n",
      "PER  \t0.98 \t0.77 \t0.88 \t0.82 \n",
      "ORG  \t0.97 \t0.64 \t0.55 \t0.59 \n",
      "LOC  \t0.98 \t0.73 \t0.78 \t0.75 \n",
      "MISC \t0.98 \t0.75 \t0.48 \t0.59 \n",
      "O    \t0.98 \t0.99 \t0.99 \t0.99 \n",
      "micro\t0.98 \t0.94 \t0.94 \t0.94 \n",
      "macro\t0.98 \t0.78 \t0.73 \t0.75 \n",
      "not-O\t0.98 \t0.73 \t0.71 \t0.72 \n",
      "\n",
      "INFO:Entity level P/R/F1: 0.62/0.68/0.65\n",
      "INFO:New best score! Saving model in results/window/20180731_200917/model.weights\n",
      "INFO:Epoch 3 out of 10\n"
     ]
    },
    {
     "name": "stdout",
     "output_type": "stream",
     "text": [
      "\n",
      "100/100 [==============================] - 0s - train loss: 0.1918     "
     ]
    },
    {
     "name": "stderr",
     "output_type": "stream",
     "text": [
      "INFO:Evaluating on development data\n"
     ]
    },
    {
     "name": "stdout",
     "output_type": "stream",
     "text": [
      "\n",
      "26/26 [==============================] - 1s     \n"
     ]
    },
    {
     "name": "stderr",
     "output_type": "stream",
     "text": [
      "DEBUG:Token-level confusion matrix:\n",
      "go\\gu   \tPER     \tORG     \tLOC     \tMISC    \tO       \n",
      "PER     \t2749.00 \t131.00  \t105.00  \t12.00   \t152.00  \n",
      "ORG     \t371.00  \t1203.00 \t188.00  \t102.00  \t228.00  \n",
      "LOC     \t116.00  \t146.00  \t1623.00 \t75.00   \t134.00  \n",
      "MISC    \t104.00  \t167.00  \t122.00  \t713.00  \t162.00  \n",
      "O       \t110.00  \t94.00   \t49.00   \t37.00   \t42469.00\n",
      "\n",
      "DEBUG:Token-level scores:\n",
      "label\tacc  \tprec \trec  \tf1   \n",
      "PER  \t0.98 \t0.80 \t0.87 \t0.83 \n",
      "ORG  \t0.97 \t0.69 \t0.58 \t0.63 \n",
      "LOC  \t0.98 \t0.78 \t0.78 \t0.78 \n",
      "MISC \t0.98 \t0.76 \t0.56 \t0.65 \n",
      "O    \t0.98 \t0.98 \t0.99 \t0.99 \n",
      "micro\t0.98 \t0.95 \t0.95 \t0.95 \n",
      "macro\t0.98 \t0.80 \t0.76 \t0.77 \n",
      "not-O\t0.98 \t0.77 \t0.73 \t0.75 \n",
      "\n",
      "INFO:Entity level P/R/F1: 0.66/0.69/0.67\n",
      "INFO:New best score! Saving model in results/window/20180731_200917/model.weights\n",
      "INFO:Epoch 4 out of 10\n"
     ]
    },
    {
     "name": "stdout",
     "output_type": "stream",
     "text": [
      "\n",
      "100/100 [==============================] - 0s - train loss: 0.1793     "
     ]
    },
    {
     "name": "stderr",
     "output_type": "stream",
     "text": [
      "INFO:Evaluating on development data\n"
     ]
    },
    {
     "name": "stdout",
     "output_type": "stream",
     "text": [
      "\n",
      "26/26 [==============================] - 1s     \n"
     ]
    },
    {
     "name": "stderr",
     "output_type": "stream",
     "text": [
      "DEBUG:Token-level confusion matrix:\n",
      "go\\gu   \tPER     \tORG     \tLOC     \tMISC    \tO       \n",
      "PER     \t2800.00 \t141.00  \t87.00   \t12.00   \t109.00  \n",
      "ORG     \t349.00  \t1241.00 \t189.00  \t100.00  \t213.00  \n",
      "LOC     \t106.00  \t196.00  \t1612.00 \t65.00   \t115.00  \n",
      "MISC    \t99.00   \t162.00  \t116.00  \t733.00  \t158.00  \n",
      "O       \t111.00  \t104.00  \t38.00   \t33.00   \t42473.00\n",
      "\n",
      "DEBUG:Token-level scores:\n",
      "label\tacc  \tprec \trec  \tf1   \n",
      "PER  \t0.98 \t0.81 \t0.89 \t0.85 \n",
      "ORG  \t0.97 \t0.67 \t0.59 \t0.63 \n",
      "LOC  \t0.98 \t0.79 \t0.77 \t0.78 \n",
      "MISC \t0.99 \t0.78 \t0.58 \t0.66 \n",
      "O    \t0.98 \t0.99 \t0.99 \t0.99 \n",
      "micro\t0.98 \t0.95 \t0.95 \t0.95 \n",
      "macro\t0.98 \t0.81 \t0.76 \t0.78 \n",
      "not-O\t0.98 \t0.77 \t0.74 \t0.76 \n",
      "\n",
      "INFO:Entity level P/R/F1: 0.66/0.71/0.68\n",
      "INFO:New best score! Saving model in results/window/20180731_200917/model.weights\n",
      "INFO:Epoch 5 out of 10\n"
     ]
    },
    {
     "name": "stdout",
     "output_type": "stream",
     "text": [
      "\n",
      "100/100 [==============================] - 0s - train loss: 0.1711     \n"
     ]
    },
    {
     "name": "stderr",
     "output_type": "stream",
     "text": [
      "INFO:Evaluating on development data\n"
     ]
    },
    {
     "name": "stdout",
     "output_type": "stream",
     "text": [
      "26/26 [==============================] - 1s     \n"
     ]
    },
    {
     "name": "stderr",
     "output_type": "stream",
     "text": [
      "DEBUG:Token-level confusion matrix:\n",
      "go\\gu   \tPER     \tORG     \tLOC     \tMISC    \tO       \n",
      "PER     \t2787.00 \t118.00  \t123.00  \t14.00   \t107.00  \n",
      "ORG     \t320.00  \t1284.00 \t193.00  \t85.00   \t210.00  \n",
      "LOC     \t103.00  \t149.00  \t1675.00 \t59.00   \t108.00  \n",
      "MISC    \t100.00  \t154.00  \t124.00  \t740.00  \t150.00  \n",
      "O       \t100.00  \t98.00   \t46.00   \t35.00   \t42480.00\n",
      "\n",
      "DEBUG:Token-level scores:\n",
      "label\tacc  \tprec \trec  \tf1   \n",
      "PER  \t0.98 \t0.82 \t0.89 \t0.85 \n",
      "ORG  \t0.97 \t0.71 \t0.61 \t0.66 \n",
      "LOC  \t0.98 \t0.78 \t0.80 \t0.79 \n",
      "MISC \t0.99 \t0.79 \t0.58 \t0.67 \n",
      "O    \t0.98 \t0.99 \t0.99 \t0.99 \n",
      "micro\t0.98 \t0.95 \t0.95 \t0.95 \n",
      "macro\t0.98 \t0.82 \t0.78 \t0.79 \n",
      "not-O\t0.98 \t0.78 \t0.75 \t0.77 \n",
      "\n",
      "INFO:Entity level P/R/F1: 0.67/0.72/0.69\n",
      "INFO:New best score! Saving model in results/window/20180731_200917/model.weights\n",
      "INFO:Epoch 6 out of 10\n"
     ]
    },
    {
     "name": "stdout",
     "output_type": "stream",
     "text": [
      "\n",
      "100/100 [==============================] - 0s - train loss: 0.1653     "
     ]
    },
    {
     "name": "stderr",
     "output_type": "stream",
     "text": [
      "INFO:Evaluating on development data\n"
     ]
    },
    {
     "name": "stdout",
     "output_type": "stream",
     "text": [
      "\n",
      "26/26 [==============================] - 1s     \n"
     ]
    },
    {
     "name": "stderr",
     "output_type": "stream",
     "text": [
      "DEBUG:Token-level confusion matrix:\n",
      "go\\gu   \tPER     \tORG     \tLOC     \tMISC    \tO       \n",
      "PER     \t2845.00 \t132.00  \t69.00   \t14.00   \t89.00   \n",
      "ORG     \t345.00  \t1294.00 \t159.00  \t90.00   \t204.00  \n",
      "LOC     \t147.00  \t186.00  \t1592.00 \t69.00   \t100.00  \n",
      "MISC    \t104.00  \t142.00  \t105.00  \t770.00  \t147.00  \n",
      "O       \t114.00  \t93.00   \t37.00   \t36.00   \t42479.00\n",
      "\n",
      "DEBUG:Token-level scores:\n",
      "label\tacc  \tprec \trec  \tf1   \n",
      "PER  \t0.98 \t0.80 \t0.90 \t0.85 \n",
      "ORG  \t0.97 \t0.70 \t0.62 \t0.66 \n",
      "LOC  \t0.98 \t0.81 \t0.76 \t0.79 \n",
      "MISC \t0.99 \t0.79 \t0.61 \t0.69 \n",
      "O    \t0.98 \t0.99 \t0.99 \t0.99 \n",
      "micro\t0.98 \t0.95 \t0.95 \t0.95 \n",
      "macro\t0.98 \t0.82 \t0.78 \t0.79 \n",
      "not-O\t0.98 \t0.78 \t0.76 \t0.77 \n",
      "\n",
      "INFO:Entity level P/R/F1: 0.67/0.72/0.69\n",
      "INFO:Epoch 7 out of 10\n"
     ]
    },
    {
     "name": "stdout",
     "output_type": "stream",
     "text": [
      "\n",
      "100/100 [==============================] - 0s - train loss: 0.1597     "
     ]
    },
    {
     "name": "stderr",
     "output_type": "stream",
     "text": [
      "INFO:Evaluating on development data\n"
     ]
    },
    {
     "name": "stdout",
     "output_type": "stream",
     "text": [
      "\n",
      "26/26 [==============================] - 1s     \n"
     ]
    },
    {
     "name": "stderr",
     "output_type": "stream",
     "text": [
      "DEBUG:Token-level confusion matrix:\n",
      "go\\gu   \tPER     \tORG     \tLOC     \tMISC    \tO       \n",
      "PER     \t2837.00 \t97.00   \t103.00  \t14.00   \t98.00   \n",
      "ORG     \t355.00  \t1231.00 \t202.00  \t93.00   \t211.00  \n",
      "LOC     \t130.00  \t105.00  \t1701.00 \t63.00   \t95.00   \n",
      "MISC    \t106.00  \t118.00  \t132.00  \t759.00  \t153.00  \n",
      "O       \t105.00  \t78.00   \t48.00   \t32.00   \t42496.00\n",
      "\n",
      "DEBUG:Token-level scores:\n",
      "label\tacc  \tprec \trec  \tf1   \n",
      "PER  \t0.98 \t0.80 \t0.90 \t0.85 \n",
      "ORG  \t0.98 \t0.76 \t0.59 \t0.66 \n",
      "LOC  \t0.98 \t0.78 \t0.81 \t0.79 \n",
      "MISC \t0.99 \t0.79 \t0.60 \t0.68 \n",
      "O    \t0.98 \t0.99 \t0.99 \t0.99 \n",
      "micro\t0.98 \t0.95 \t0.95 \t0.95 \n",
      "macro\t0.98 \t0.82 \t0.78 \t0.80 \n",
      "not-O\t0.98 \t0.79 \t0.76 \t0.77 \n",
      "\n",
      "INFO:Entity level P/R/F1: 0.68/0.73/0.70\n",
      "INFO:New best score! Saving model in results/window/20180731_200917/model.weights\n",
      "INFO:Epoch 8 out of 10\n"
     ]
    },
    {
     "name": "stdout",
     "output_type": "stream",
     "text": [
      "\n",
      "100/100 [==============================] - 0s - train loss: 0.1561     "
     ]
    },
    {
     "name": "stderr",
     "output_type": "stream",
     "text": [
      "INFO:Evaluating on development data\n"
     ]
    },
    {
     "name": "stdout",
     "output_type": "stream",
     "text": [
      "\n",
      "26/26 [==============================] - 1s     \n"
     ]
    },
    {
     "name": "stderr",
     "output_type": "stream",
     "text": [
      "DEBUG:Token-level confusion matrix:\n",
      "go\\gu   \tPER     \tORG     \tLOC     \tMISC    \tO       \n",
      "PER     \t2815.00 \t127.00  \t80.00   \t16.00   \t111.00  \n",
      "ORG     \t319.00  \t1289.00 \t186.00  \t91.00   \t207.00  \n",
      "LOC     \t120.00  \t165.00  \t1651.00 \t65.00   \t93.00   \n",
      "MISC    \t94.00   \t126.00  \t112.00  \t783.00  \t153.00  \n",
      "O       \t92.00   \t79.00   \t40.00   \t34.00   \t42514.00\n",
      "\n",
      "DEBUG:Token-level scores:\n",
      "label\tacc  \tprec \trec  \tf1   \n",
      "PER  \t0.98 \t0.82 \t0.89 \t0.85 \n",
      "ORG  \t0.97 \t0.72 \t0.62 \t0.66 \n",
      "LOC  \t0.98 \t0.80 \t0.79 \t0.79 \n",
      "MISC \t0.99 \t0.79 \t0.62 \t0.69 \n",
      "O    \t0.98 \t0.99 \t0.99 \t0.99 \n",
      "micro\t0.98 \t0.96 \t0.96 \t0.96 \n",
      "macro\t0.98 \t0.82 \t0.78 \t0.80 \n",
      "not-O\t0.98 \t0.79 \t0.76 \t0.77 \n",
      "\n",
      "INFO:Entity level P/R/F1: 0.68/0.72/0.70\n",
      "INFO:Epoch 9 out of 10\n"
     ]
    },
    {
     "name": "stdout",
     "output_type": "stream",
     "text": [
      "\n",
      "100/100 [==============================] - 0s - train loss: 0.1524     "
     ]
    },
    {
     "name": "stderr",
     "output_type": "stream",
     "text": [
      "INFO:Evaluating on development data\n"
     ]
    },
    {
     "name": "stdout",
     "output_type": "stream",
     "text": [
      "\n",
      "26/26 [==============================] - 1s     \n"
     ]
    },
    {
     "name": "stderr",
     "output_type": "stream",
     "text": [
      "DEBUG:Token-level confusion matrix:\n",
      "go\\gu   \tPER     \tORG     \tLOC     \tMISC    \tO       \n",
      "PER     \t2776.00 \t135.00  \t131.00  \t22.00   \t85.00   \n",
      "ORG     \t274.00  \t1341.00 \t206.00  \t88.00   \t183.00  \n",
      "LOC     \t92.00   \t120.00  \t1730.00 \t63.00   \t89.00   \n",
      "MISC    \t81.00   \t137.00  \t111.00  \t801.00  \t138.00  \n",
      "O       \t89.00   \t101.00  \t46.00   \t42.00   \t42481.00\n",
      "\n",
      "DEBUG:Token-level scores:\n",
      "label\tacc  \tprec \trec  \tf1   \n",
      "PER  \t0.98 \t0.84 \t0.88 \t0.86 \n",
      "ORG  \t0.98 \t0.73 \t0.64 \t0.68 \n",
      "LOC  \t0.98 \t0.78 \t0.83 \t0.80 \n",
      "MISC \t0.99 \t0.79 \t0.63 \t0.70 \n",
      "O    \t0.98 \t0.99 \t0.99 \t0.99 \n",
      "micro\t0.98 \t0.96 \t0.96 \t0.96 \n",
      "macro\t0.98 \t0.82 \t0.79 \t0.81 \n",
      "not-O\t0.98 \t0.79 \t0.77 \t0.78 \n",
      "\n",
      "INFO:Entity level P/R/F1: 0.69/0.74/0.71\n",
      "INFO:New best score! Saving model in results/window/20180731_200917/model.weights\n",
      "INFO:Epoch 10 out of 10\n"
     ]
    },
    {
     "name": "stdout",
     "output_type": "stream",
     "text": [
      "\n",
      "100/100 [==============================] - 0s - train loss: 0.1487     "
     ]
    },
    {
     "name": "stderr",
     "output_type": "stream",
     "text": [
      "INFO:Evaluating on development data\n"
     ]
    },
    {
     "name": "stdout",
     "output_type": "stream",
     "text": [
      "\n",
      "26/26 [==============================] - 1s     \n"
     ]
    },
    {
     "name": "stderr",
     "output_type": "stream",
     "text": [
      "DEBUG:Token-level confusion matrix:\n",
      "go\\gu   \tPER     \tORG     \tLOC     \tMISC    \tO       \n",
      "PER     \t2804.00 \t95.00   \t128.00  \t19.00   \t103.00  \n",
      "ORG     \t282.00  \t1309.00 \t213.00  \t90.00   \t198.00  \n",
      "LOC     \t84.00   \t125.00  \t1723.00 \t62.00   \t100.00  \n",
      "MISC    \t82.00   \t109.00  \t117.00  \t815.00  \t145.00  \n",
      "O       \t91.00   \t93.00   \t44.00   \t35.00   \t42496.00\n",
      "\n",
      "DEBUG:Token-level scores:\n",
      "label\tacc  \tprec \trec  \tf1   \n",
      "PER  \t0.98 \t0.84 \t0.89 \t0.86 \n",
      "ORG  \t0.98 \t0.76 \t0.63 \t0.68 \n",
      "LOC  \t0.98 \t0.77 \t0.82 \t0.80 \n",
      "MISC \t0.99 \t0.80 \t0.64 \t0.71 \n",
      "O    \t0.98 \t0.99 \t0.99 \t0.99 \n",
      "micro\t0.98 \t0.96 \t0.96 \t0.96 \n",
      "macro\t0.98 \t0.83 \t0.80 \t0.81 \n",
      "not-O\t0.98 \t0.80 \t0.77 \t0.79 \n",
      "\n",
      "INFO:Entity level P/R/F1: 0.70/0.74/0.72\n",
      "INFO:New best score! Saving model in results/window/20180731_200917/model.weights\n"
     ]
    },
    {
     "name": "stdout",
     "output_type": "stream",
     "text": [
      "\n",
      "26/26 [==============================] - 1s     \n"
     ]
    }
   ],
   "source": [
    "%run q1_window.py train"
   ]
  },
  {
   "cell_type": "code",
   "execution_count": null,
   "metadata": {},
   "outputs": [],
   "source": []
  }
 ],
 "metadata": {
  "kernelspec": {
   "display_name": "Python 3",
   "language": "python",
   "name": "python3"
  },
  "language_info": {
   "codemirror_mode": {
    "name": "ipython",
    "version": 3
   },
   "file_extension": ".py",
   "mimetype": "text/x-python",
   "name": "python",
   "nbconvert_exporter": "python",
   "pygments_lexer": "ipython3",
   "version": "3.6.4"
  }
 },
 "nbformat": 4,
 "nbformat_minor": 2
}
